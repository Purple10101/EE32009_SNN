{
 "cells": [
  {
   "metadata": {
    "ExecuteTime": {
     "end_time": "2025-10-08T14:38:23.934180Z",
     "start_time": "2025-10-08T14:38:23.930203Z"
    }
   },
   "cell_type": "code",
   "source": [
    "import torch\n",
    "import pandas as pd\n",
    "import numpy as np\n",
    "import matplotlib.pyplot as plt"
   ],
   "id": "2e124f85910ecf6a",
   "outputs": [],
   "execution_count": 78
  },
  {
   "metadata": {},
   "cell_type": "markdown",
   "source": "Tensors are any collection of data that nural networks take as input and provide as output. They are often representing multidimentional data.",
   "id": "96d988889d2e4666"
  },
  {
   "metadata": {
    "ExecuteTime": {
     "end_time": "2025-10-08T14:38:23.947498Z",
     "start_time": "2025-10-08T14:38:23.942506Z"
    }
   },
   "cell_type": "code",
   "source": [
    "# scalr intro\n",
    "scalar = torch.tensor(9)\n",
    "\n",
    "scalar.ndim # show dimensions of the tensor\n",
    "scalar.item() # get tensor back as integer\n",
    "\n",
    "# vector intro\n",
    "vector = torch.tensor([9, 9])\n",
    "\n",
    "vector.ndim # show dimensions of the tensor\n",
    "vector.shape # show structure of vector"
   ],
   "id": "7aa5989e9ef7afd1",
   "outputs": [
    {
     "data": {
      "text/plain": [
       "torch.Size([2])"
      ]
     },
     "execution_count": 79,
     "metadata": {},
     "output_type": "execute_result"
    }
   ],
   "execution_count": 79
  },
  {
   "metadata": {
    "ExecuteTime": {
     "end_time": "2025-10-08T14:38:23.966092Z",
     "start_time": "2025-10-08T14:38:23.960356Z"
    }
   },
   "cell_type": "code",
   "source": [
    "MATRIX = torch.tensor([[1, 2], [3,4]])\n",
    "MATRIX.shape # show structure of mat"
   ],
   "id": "cc08cc79d6c95390",
   "outputs": [
    {
     "data": {
      "text/plain": [
       "torch.Size([2, 2])"
      ]
     },
     "execution_count": 80,
     "metadata": {},
     "output_type": "execute_result"
    }
   ],
   "execution_count": 80
  },
  {
   "metadata": {
    "ExecuteTime": {
     "end_time": "2025-10-08T14:38:23.983818Z",
     "start_time": "2025-10-08T14:38:23.978961Z"
    }
   },
   "cell_type": "code",
   "source": [
    "TENSOR_EX = torch.tensor([[[1,2],\n",
    "                           [3, 4],\n",
    "                           [5, 6]]])\n",
    "TENSOR_EX.shape # show structure of tensor"
   ],
   "id": "ae50d27e43b57e07",
   "outputs": [
    {
     "data": {
      "text/plain": [
       "torch.Size([1, 3, 2])"
      ]
     },
     "execution_count": 81,
     "metadata": {},
     "output_type": "execute_result"
    }
   ],
   "execution_count": 81
  },
  {
   "metadata": {
    "ExecuteTime": {
     "end_time": "2025-10-08T14:38:24.002961Z",
     "start_time": "2025-10-08T14:38:23.997418Z"
    }
   },
   "cell_type": "code",
   "source": [
    "TENSOR_EX = torch.tensor([\n",
    "    [[1,2],[3,4]],\n",
    "    [[5,6],[7,8]],\n",
    "    [[9,10],[11,12]]\n",
    "])\n",
    "TENSOR_EX.shape # show structure of tensor"
   ],
   "id": "388a84ab41d73173",
   "outputs": [
    {
     "data": {
      "text/plain": [
       "torch.Size([3, 2, 2])"
      ]
     },
     "execution_count": 82,
     "metadata": {},
     "output_type": "execute_result"
    }
   ],
   "execution_count": 82
  },
  {
   "metadata": {},
   "cell_type": "markdown",
   "source": "As you can see tensors can have as many 'embedded' matrices as needed! For reference scalars and vectors are typically lowercase var names and matrix and tensor vars are uppercase.",
   "id": "69848f3324615b62"
  },
  {
   "metadata": {},
   "cell_type": "markdown",
   "source": "Why are random tensors important? NNs start with random tensors and adjust those random values to better represent the data they are trained on.",
   "id": "1f7234e2272b469a"
  },
  {
   "metadata": {
    "ExecuteTime": {
     "end_time": "2025-10-08T14:38:24.016210Z",
     "start_time": "2025-10-08T14:38:24.011720Z"
    }
   },
   "cell_type": "code",
   "source": [
    "# Random tensors now...\n",
    "rand_tensor = torch.randn(3, 4)\n",
    "rand_tensor"
   ],
   "id": "349525092c0c987c",
   "outputs": [
    {
     "data": {
      "text/plain": [
       "tensor([[ 0.4301,  1.0198, -1.3172, -0.0165],\n",
       "        [-1.2113, -1.8838, -1.0452, -0.7171],\n",
       "        [ 1.3177, -0.3104,  1.5588,  0.3750]])"
      ]
     },
     "execution_count": 83,
     "metadata": {},
     "output_type": "execute_result"
    }
   ],
   "execution_count": 83
  },
  {
   "metadata": {
    "ExecuteTime": {
     "end_time": "2025-10-08T14:38:24.034802Z",
     "start_time": "2025-10-08T14:38:24.026785Z"
    }
   },
   "cell_type": "code",
   "source": [
    "# Creating a rand tensor with image dimensions HxWxC where C=num of color chan\n",
    "rand_img_tensor = torch.randn(3, 8, 8)\n",
    "rand_img_tensor\n",
    "# create a random tensor representing a 8px by 8px RGB image"
   ],
   "id": "44968f649e41d615",
   "outputs": [
    {
     "data": {
      "text/plain": [
       "tensor([[[ 0.0744,  0.0669, -0.5165,  1.3993, -0.2059,  2.1871,  0.7947,\n",
       "          -1.6098],\n",
       "         [-0.5574,  1.2439, -0.7111,  0.4254,  0.2901,  0.5948,  0.2965,\n",
       "           1.0343],\n",
       "         [-1.8675, -0.3193,  0.4080,  1.2398, -0.2119,  0.5350,  0.5201,\n",
       "           0.3761],\n",
       "         [-0.3829,  0.5099, -0.7095, -1.5675,  1.3688, -1.2616,  0.6335,\n",
       "          -1.2287],\n",
       "         [ 0.3602,  1.9494, -1.0312,  0.3551, -0.2474, -1.2466, -1.3238,\n",
       "          -0.2893],\n",
       "         [ 1.3685,  0.3951,  1.6268,  0.4733, -0.1595, -0.2949, -0.8382,\n",
       "           1.5595],\n",
       "         [ 0.5803,  0.8570, -0.3377,  0.3084,  1.5479,  1.7100,  0.8944,\n",
       "          -0.6812],\n",
       "         [-0.3022, -0.1953,  0.5862,  1.4485,  0.4897,  1.8223, -0.0428,\n",
       "           0.3437]],\n",
       "\n",
       "        [[-0.2395,  0.0094, -1.7330,  1.0896, -1.1099,  0.3791,  1.6544,\n",
       "           0.6425],\n",
       "         [ 1.0140, -0.3183, -0.1975,  1.6480,  0.5472, -0.7378,  0.0370,\n",
       "           0.9604],\n",
       "         [-0.2609, -0.2800, -0.1928, -0.4243,  0.0431,  0.5177, -1.3820,\n",
       "          -0.4350],\n",
       "         [-0.4514, -1.0371, -0.1677,  1.1760, -0.9939, -0.9128, -1.5368,\n",
       "           0.9981],\n",
       "         [-0.8195,  0.3001, -0.2861, -0.4879, -0.1324,  0.4648, -1.1161,\n",
       "           0.6001],\n",
       "         [-0.2415,  0.5491,  0.0718, -0.2495, -0.6527,  0.2046, -1.7734,\n",
       "           0.4704],\n",
       "         [ 0.1577,  1.1506, -0.9749, -1.0223, -0.5423, -0.1469, -1.2114,\n",
       "           0.2090],\n",
       "         [-0.1963, -1.0830,  1.2950,  0.9065,  2.5004, -1.0156, -0.2693,\n",
       "           0.4182]],\n",
       "\n",
       "        [[ 0.3730, -0.9779,  0.9672, -1.3978,  1.1503, -2.5723, -0.2888,\n",
       "           0.3739],\n",
       "         [-0.2227,  0.0711,  0.3951, -0.2273, -0.6909,  0.2266, -1.2690,\n",
       "          -1.5338],\n",
       "         [ 1.1585, -0.5429, -1.0085, -1.8458, -1.3079, -0.4755, -0.2515,\n",
       "          -0.2218],\n",
       "         [-0.1435, -0.8306, -0.7570, -1.2259, -0.8612, -0.0036,  1.4907,\n",
       "           0.1997],\n",
       "         [-0.9029,  2.3563, -2.1989,  0.7968, -1.6303, -0.4491,  1.0795,\n",
       "          -0.3575],\n",
       "         [-0.1710, -1.0755,  0.2643, -0.1896, -0.6632,  1.3784, -0.1448,\n",
       "          -1.0128],\n",
       "         [-0.0209,  0.9151, -0.2881, -1.2908, -1.3866,  0.9462,  0.9441,\n",
       "          -0.9420],\n",
       "         [-1.1338,  1.8353,  0.2548,  0.2642,  0.6766, -0.8137,  1.5524,\n",
       "           0.9995]]])"
      ]
     },
     "execution_count": 84,
     "metadata": {},
     "output_type": "execute_result"
    }
   ],
   "execution_count": 84
  },
  {
   "metadata": {
    "ExecuteTime": {
     "end_time": "2025-10-08T14:38:24.049396Z",
     "start_time": "2025-10-08T14:38:24.044538Z"
    }
   },
   "cell_type": "code",
   "source": [
    "# Mask tensor (0 and 1)\n",
    "zero_tensor = torch.zeros(size=(3, 4))\n",
    "zero_tensor"
   ],
   "id": "b8479599be2f69e9",
   "outputs": [
    {
     "data": {
      "text/plain": [
       "tensor([[0., 0., 0., 0.],\n",
       "        [0., 0., 0., 0.],\n",
       "        [0., 0., 0., 0.]])"
      ]
     },
     "execution_count": 85,
     "metadata": {},
     "output_type": "execute_result"
    }
   ],
   "execution_count": 85
  },
  {
   "metadata": {
    "ExecuteTime": {
     "end_time": "2025-10-08T14:38:24.072210Z",
     "start_time": "2025-10-08T14:38:24.066804Z"
    }
   },
   "cell_type": "code",
   "source": [
    "one_tensor = torch.ones(size=(3, 4))\n",
    "one_tensor"
   ],
   "id": "ac70ed34a2ce8c65",
   "outputs": [
    {
     "data": {
      "text/plain": [
       "tensor([[1., 1., 1., 1.],\n",
       "        [1., 1., 1., 1.],\n",
       "        [1., 1., 1., 1.]])"
      ]
     },
     "execution_count": 86,
     "metadata": {},
     "output_type": "execute_result"
    }
   ],
   "execution_count": 86
  },
  {
   "metadata": {
    "ExecuteTime": {
     "end_time": "2025-10-08T14:38:24.089941Z",
     "start_time": "2025-10-08T14:38:24.085389Z"
    }
   },
   "cell_type": "code",
   "source": "one_tensor.dtype # f32 is def",
   "id": "a3907e2c1ad4155e",
   "outputs": [
    {
     "data": {
      "text/plain": [
       "torch.float32"
      ]
     },
     "execution_count": 87,
     "metadata": {},
     "output_type": "execute_result"
    }
   ],
   "execution_count": 87
  },
  {
   "metadata": {},
   "cell_type": "markdown",
   "source": "Here are some common perams you'll see get passed to the torch.tensor() method...",
   "id": "5ad205e2851a3649"
  },
  {
   "metadata": {
    "ExecuteTime": {
     "end_time": "2025-10-08T14:38:24.102968Z",
     "start_time": "2025-10-08T14:38:24.099453Z"
    }
   },
   "cell_type": "code",
   "source": [
    "flt_32_tensor = torch.tensor([3.0, 6.0, 9.0],\n",
    "                             dtype=torch.float32,\n",
    "                             device=torch.device('cpu'),\n",
    "                             requires_grad=False)"
   ],
   "id": "dac0aa81d7fbe3e9",
   "outputs": [],
   "execution_count": 88
  },
  {
   "metadata": {},
   "cell_type": "markdown",
   "source": "Now we will see how to get information from tensors...",
   "id": "99c297319fff7839"
  },
  {
   "metadata": {
    "ExecuteTime": {
     "end_time": "2025-10-08T14:38:24.117602Z",
     "start_time": "2025-10-08T14:38:24.112321Z"
    }
   },
   "cell_type": "code",
   "source": [
    "tensor_1 = torch.rand(3,4)\n",
    "print(tensor_1)\n",
    "print(f\"Datatype of tensor is {tensor_1.dtype}\")\n",
    "print(f\"Shape of tensor is {tensor_1.shape}\")\n",
    "print(f\"Device tensor is on is {tensor_1.device}\")"
   ],
   "id": "f25e902e194f23ae",
   "outputs": [
    {
     "name": "stdout",
     "output_type": "stream",
     "text": [
      "tensor([[0.9574, 0.4362, 0.5921, 0.4214],\n",
      "        [0.7880, 0.4344, 0.0055, 0.3214],\n",
      "        [0.1000, 0.2313, 0.7267, 0.8104]])\n",
      "Datatype of tensor is torch.float32\n",
      "Shape of tensor is torch.Size([3, 4])\n",
      "Device tensor is on is cpu\n"
     ]
    }
   ],
   "execution_count": 89
  },
  {
   "metadata": {
    "ExecuteTime": {
     "end_time": "2025-10-08T14:38:24.133728Z",
     "start_time": "2025-10-08T14:38:24.128417Z"
    }
   },
   "cell_type": "code",
   "source": [
    "# Tensors can be manipulated...\n",
    "# Added\n",
    "# Subtracted\n",
    "# Element wise multiplied\n",
    "# Divided\n",
    "# Matrix multiplied\n",
    "\n",
    "x = torch.tensor([1,2,3])\n",
    "y = torch.tensor([3,2,1])\n",
    "\n",
    "x + 10\n",
    "torch.add(x, 10)"
   ],
   "id": "565789b5710ccc77",
   "outputs": [
    {
     "data": {
      "text/plain": [
       "tensor([11, 12, 13])"
      ]
     },
     "execution_count": 90,
     "metadata": {},
     "output_type": "execute_result"
    }
   ],
   "execution_count": 90
  },
  {
   "metadata": {
    "ExecuteTime": {
     "end_time": "2025-10-08T14:38:24.152343Z",
     "start_time": "2025-10-08T14:38:24.147330Z"
    }
   },
   "cell_type": "code",
   "source": [
    "x * 10\n",
    "torch.mul(x, 10)"
   ],
   "id": "fc0f29bad03dd358",
   "outputs": [
    {
     "data": {
      "text/plain": [
       "tensor([10, 20, 30])"
      ]
     },
     "execution_count": 91,
     "metadata": {},
     "output_type": "execute_result"
    }
   ],
   "execution_count": 91
  },
  {
   "metadata": {
    "ExecuteTime": {
     "end_time": "2025-10-08T14:38:24.168027Z",
     "start_time": "2025-10-08T14:38:24.162839Z"
    }
   },
   "cell_type": "code",
   "source": [
    "x - 10\n",
    "torch.subtract(x, 10)"
   ],
   "id": "831fd6f04df4589e",
   "outputs": [
    {
     "data": {
      "text/plain": [
       "tensor([-9, -8, -7])"
      ]
     },
     "execution_count": 92,
     "metadata": {},
     "output_type": "execute_result"
    }
   ],
   "execution_count": 92
  },
  {
   "metadata": {
    "ExecuteTime": {
     "end_time": "2025-10-08T14:38:24.184840Z",
     "start_time": "2025-10-08T14:38:24.180219Z"
    }
   },
   "cell_type": "code",
   "source": "x * y # elementwise",
   "id": "da760a3fc5fd4ed8",
   "outputs": [
    {
     "data": {
      "text/plain": [
       "tensor([3, 4, 3])"
      ]
     },
     "execution_count": 93,
     "metadata": {},
     "output_type": "execute_result"
    }
   ],
   "execution_count": 93
  },
  {
   "metadata": {
    "ExecuteTime": {
     "end_time": "2025-10-08T14:38:24.206637Z",
     "start_time": "2025-10-08T14:38:24.201897Z"
    }
   },
   "cell_type": "code",
   "source": "torch.matmul(x, y) # the transposition is implied",
   "id": "a231b39589e0b1bb",
   "outputs": [
    {
     "data": {
      "text/plain": [
       "tensor(10)"
      ]
     },
     "execution_count": 94,
     "metadata": {},
     "output_type": "execute_result"
    }
   ],
   "execution_count": 94
  },
  {
   "metadata": {},
   "cell_type": "markdown",
   "source": "Tensor aggregation is min max mean and more info...",
   "id": "6d1710b2285f817c"
  },
  {
   "metadata": {
    "ExecuteTime": {
     "end_time": "2025-10-08T14:38:24.224320Z",
     "start_time": "2025-10-08T14:38:24.219941Z"
    }
   },
   "cell_type": "code",
   "source": [
    "tensor = torch.tensor([3.0, 6.0, 9.0], dtype=torch.long)\n",
    "torch.mean(tensor.type(torch.float32)) # doesnt accept long"
   ],
   "id": "68c8b18765af0f78",
   "outputs": [
    {
     "data": {
      "text/plain": [
       "tensor(6.)"
      ]
     },
     "execution_count": 95,
     "metadata": {},
     "output_type": "execute_result"
    }
   ],
   "execution_count": 95
  },
  {
   "metadata": {
    "ExecuteTime": {
     "end_time": "2025-10-08T14:38:24.238269Z",
     "start_time": "2025-10-08T14:38:24.233119Z"
    }
   },
   "cell_type": "code",
   "source": "tensor.min()",
   "id": "c38af45ceb32048c",
   "outputs": [
    {
     "data": {
      "text/plain": [
       "tensor(3)"
      ]
     },
     "execution_count": 96,
     "metadata": {},
     "output_type": "execute_result"
    }
   ],
   "execution_count": 96
  },
  {
   "metadata": {
    "ExecuteTime": {
     "end_time": "2025-10-08T14:38:24.252437Z",
     "start_time": "2025-10-08T14:38:24.248416Z"
    }
   },
   "cell_type": "code",
   "source": "tensor.max()",
   "id": "e2b49343ae03db4f",
   "outputs": [
    {
     "data": {
      "text/plain": [
       "tensor(9)"
      ]
     },
     "execution_count": 97,
     "metadata": {},
     "output_type": "execute_result"
    }
   ],
   "execution_count": 97
  },
  {
   "metadata": {
    "ExecuteTime": {
     "end_time": "2025-10-08T14:38:24.267526Z",
     "start_time": "2025-10-08T14:38:24.262065Z"
    }
   },
   "cell_type": "code",
   "source": [
    "# find pos in tensor that has min value\n",
    "tensor.argmin() # pos 0 has 3\n",
    "# same thing for max"
   ],
   "id": "d203acfbf08fccd2",
   "outputs": [
    {
     "data": {
      "text/plain": [
       "tensor(0)"
      ]
     },
     "execution_count": 98,
     "metadata": {},
     "output_type": "execute_result"
    }
   ],
   "execution_count": 98
  },
  {
   "metadata": {
    "ExecuteTime": {
     "end_time": "2025-10-08T14:38:24.287012Z",
     "start_time": "2025-10-08T14:38:24.282576Z"
    }
   },
   "cell_type": "code",
   "source": "tensor[0]",
   "id": "591f276e78f9d59",
   "outputs": [
    {
     "data": {
      "text/plain": [
       "tensor(3)"
      ]
     },
     "execution_count": 99,
     "metadata": {},
     "output_type": "execute_result"
    }
   ],
   "execution_count": 99
  },
  {
   "metadata": {},
   "cell_type": "markdown",
   "source": "Reshaping stacking and squeezing (unsqueezing) tensors are important operations.",
   "id": "e92fc0aed3a361a7"
  },
  {
   "metadata": {
    "ExecuteTime": {
     "end_time": "2025-10-08T14:38:24.318229Z",
     "start_time": "2025-10-08T14:38:24.312322Z"
    }
   },
   "cell_type": "code",
   "source": [
    "x = torch.arange(1.,11.)\n",
    "\n",
    "x_reshaped = x.reshape(5, 2)\n",
    "x_reshaped, x_reshaped.shape"
   ],
   "id": "e01d829f7381d715",
   "outputs": [
    {
     "data": {
      "text/plain": [
       "(tensor([[ 1.,  2.],\n",
       "         [ 3.,  4.],\n",
       "         [ 5.,  6.],\n",
       "         [ 7.,  8.],\n",
       "         [ 9., 10.]]),\n",
       " torch.Size([5, 2]))"
      ]
     },
     "execution_count": 100,
     "metadata": {},
     "output_type": "execute_result"
    }
   ],
   "execution_count": 100
  },
  {
   "metadata": {
    "ExecuteTime": {
     "end_time": "2025-10-08T14:38:24.348087Z",
     "start_time": "2025-10-08T14:38:24.342811Z"
    }
   },
   "cell_type": "code",
   "source": [
    "x_reshaped = x.reshape(10, 1) # this is like transposing it\n",
    "x_reshaped, x_reshaped.shape"
   ],
   "id": "36310495fcdfeede",
   "outputs": [
    {
     "data": {
      "text/plain": [
       "(tensor([[ 1.],\n",
       "         [ 2.],\n",
       "         [ 3.],\n",
       "         [ 4.],\n",
       "         [ 5.],\n",
       "         [ 6.],\n",
       "         [ 7.],\n",
       "         [ 8.],\n",
       "         [ 9.],\n",
       "         [10.]]),\n",
       " torch.Size([10, 1]))"
      ]
     },
     "execution_count": 101,
     "metadata": {},
     "output_type": "execute_result"
    }
   ],
   "execution_count": 101
  },
  {
   "metadata": {
    "ExecuteTime": {
     "end_time": "2025-10-08T14:38:24.365766Z",
     "start_time": "2025-10-08T14:38:24.360908Z"
    }
   },
   "cell_type": "code",
   "source": [
    "# stacking tensors ontop of each other\n",
    "x_stacked = torch.stack([x, x, x, x], dim=1) # dim dictates the stacking method\n",
    "x_stacked"
   ],
   "id": "6a947ea7845ef98e",
   "outputs": [
    {
     "data": {
      "text/plain": [
       "tensor([[ 1.,  1.,  1.,  1.],\n",
       "        [ 2.,  2.,  2.,  2.],\n",
       "        [ 3.,  3.,  3.,  3.],\n",
       "        [ 4.,  4.,  4.,  4.],\n",
       "        [ 5.,  5.,  5.,  5.],\n",
       "        [ 6.,  6.,  6.,  6.],\n",
       "        [ 7.,  7.,  7.,  7.],\n",
       "        [ 8.,  8.,  8.,  8.],\n",
       "        [ 9.,  9.,  9.,  9.],\n",
       "        [10., 10., 10., 10.]])"
      ]
     },
     "execution_count": 102,
     "metadata": {},
     "output_type": "execute_result"
    }
   ],
   "execution_count": 102
  },
  {
   "metadata": {
    "ExecuteTime": {
     "end_time": "2025-10-08T14:38:24.395674Z",
     "start_time": "2025-10-08T14:38:24.390862Z"
    }
   },
   "cell_type": "code",
   "source": [
    "# squeezing and unsqueezing\n",
    "x.squeeze()"
   ],
   "id": "bbd51cb4a36e5312",
   "outputs": [
    {
     "data": {
      "text/plain": [
       "tensor([ 1.,  2.,  3.,  4.,  5.,  6.,  7.,  8.,  9., 10.])"
      ]
     },
     "execution_count": 103,
     "metadata": {},
     "output_type": "execute_result"
    }
   ],
   "execution_count": 103
  },
  {
   "metadata": {
    "ExecuteTime": {
     "end_time": "2025-10-08T14:38:24.422098Z",
     "start_time": "2025-10-08T14:38:24.416485Z"
    }
   },
   "cell_type": "code",
   "source": [
    "# torch.squeeze() - removes all single dimensions from a target tensor\n",
    "print(f\"Previous tensor: {x_reshaped}\")\n",
    "print(f\"Previous shape: {x_reshaped.shape}\")\n",
    "\n",
    "# Remove extra dimensions from x_reshaped\n",
    "x_squeezed = x_reshaped.squeeze()\n",
    "print(f\"\\nNew tensor: {x_squeezed}\")\n",
    "print(f\"New shape: {x_squeezed.shape}\")"
   ],
   "id": "5dbbd10a11ed9363",
   "outputs": [
    {
     "name": "stdout",
     "output_type": "stream",
     "text": [
      "Previous tensor: tensor([[ 1.],\n",
      "        [ 2.],\n",
      "        [ 3.],\n",
      "        [ 4.],\n",
      "        [ 5.],\n",
      "        [ 6.],\n",
      "        [ 7.],\n",
      "        [ 8.],\n",
      "        [ 9.],\n",
      "        [10.]])\n",
      "Previous shape: torch.Size([10, 1])\n",
      "\n",
      "New tensor: tensor([ 1.,  2.,  3.,  4.,  5.,  6.,  7.,  8.,  9., 10.])\n",
      "New shape: torch.Size([10])\n"
     ]
    }
   ],
   "execution_count": 104
  },
  {
   "metadata": {},
   "cell_type": "markdown",
   "source": "Squeeze removes all single dimensions from a tensor. Its just a data formatting tool really.",
   "id": "47461ace3023164a"
  },
  {
   "metadata": {
    "ExecuteTime": {
     "end_time": "2025-10-08T14:40:48.824302Z",
     "start_time": "2025-10-08T14:40:48.816493Z"
    }
   },
   "cell_type": "code",
   "source": [
    "# Unsqueezing adds a single dimension to a target tensor at a specific dim\n",
    "print(f\"Previous target: {x_squeezed}\")\n",
    "print(f\"Previous shape: {x_squeezed.shape}\")\n",
    "\n",
    "# Add an extra dimension with unsqueeze\n",
    "x_unsqueezed = x_squeezed.unsqueeze(dim=0)\n",
    "print(f\"\\nNew tensor: {x_unsqueezed}\")\n",
    "print(f\"New shape: {x_unsqueezed.shape}\")"
   ],
   "id": "6090ece409a6dea",
   "outputs": [
    {
     "name": "stdout",
     "output_type": "stream",
     "text": [
      "Previous target: tensor([ 1.,  2.,  3.,  4.,  5.,  6.,  7.,  8.,  9., 10.])\n",
      "Previous shape: torch.Size([10])\n",
      "\n",
      "New tensor: tensor([[ 1.,  2.,  3.,  4.,  5.,  6.,  7.,  8.,  9., 10.]])\n",
      "New shape: torch.Size([1, 10])\n"
     ]
    }
   ],
   "execution_count": 105
  },
  {
   "metadata": {},
   "cell_type": "markdown",
   "source": "Permute is used often also which rearranges the dimensions of a target in a specified order...",
   "id": "aee4c315f52b9002"
  },
  {
   "metadata": {
    "ExecuteTime": {
     "end_time": "2025-10-08T14:45:07.991880Z",
     "start_time": "2025-10-08T14:45:07.984331Z"
    }
   },
   "cell_type": "code",
   "source": [
    "x_og = torch.rand(size=(8,8,3)) # 8x8x3 image\n",
    "\n",
    "# switch the color channels to be first dimension\n",
    "\n",
    "x_perm = x_og.permute(2,0,1)\n",
    "x_perm.shape"
   ],
   "id": "9b138b4c71292f69",
   "outputs": [
    {
     "data": {
      "text/plain": [
       "torch.Size([3, 8, 8])"
      ]
     },
     "execution_count": 106,
     "metadata": {},
     "output_type": "execute_result"
    }
   ],
   "execution_count": 106
  },
  {
   "metadata": {},
   "cell_type": "markdown",
   "source": "Now we will talk about np integration...",
   "id": "89d9d8c09328195f"
  },
  {
   "metadata": {
    "ExecuteTime": {
     "end_time": "2025-10-08T14:57:38.133474Z",
     "start_time": "2025-10-08T14:57:38.127267Z"
    }
   },
   "cell_type": "code",
   "source": [
    "array = np.arange(1.0, 8.0) # def float64\n",
    "tensor = torch.from_numpy(array)\n",
    "tensor = tensor.type(torch.float32)\n",
    "tensor"
   ],
   "id": "e4ab576c19315ecc",
   "outputs": [
    {
     "data": {
      "text/plain": [
       "tensor([1., 2., 3., 4., 5., 6., 7.])"
      ]
     },
     "execution_count": 108,
     "metadata": {},
     "output_type": "execute_result"
    }
   ],
   "execution_count": 108
  },
  {
   "metadata": {},
   "cell_type": "markdown",
   "source": "Thia concludes all the tricky fundamentals of tensors and stuff this is cool...",
   "id": "5c7784b2b08cf2e2"
  }
 ],
 "metadata": {
  "kernelspec": {
   "display_name": "Python 3",
   "language": "python",
   "name": "python3"
  },
  "language_info": {
   "codemirror_mode": {
    "name": "ipython",
    "version": 2
   },
   "file_extension": ".py",
   "mimetype": "text/x-python",
   "name": "python",
   "nbconvert_exporter": "python",
   "pygments_lexer": "ipython2",
   "version": "2.7.6"
  }
 },
 "nbformat": 4,
 "nbformat_minor": 5
}
