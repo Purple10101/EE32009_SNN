{
 "cells": [
  {
   "cell_type": "code",
   "id": "initial_id",
   "metadata": {
    "collapsed": true,
    "ExecuteTime": {
     "end_time": "2025-10-09T08:08:56.451432Z",
     "start_time": "2025-10-09T08:08:53.080298Z"
    }
   },
   "source": [
    "import torch\n",
    "from torch import nn\n",
    "import matplotlib.pyplot as plt\n",
    "\n",
    "torch.__version__"
   ],
   "outputs": [
    {
     "data": {
      "text/plain": [
       "'2.8.0+cpu'"
      ]
     },
     "execution_count": 2,
     "metadata": {},
     "output_type": "execute_result"
    }
   ],
   "execution_count": 2
  },
  {
   "metadata": {},
   "cell_type": "markdown",
   "source": [
    "Create some known data using linear regression.\n",
    "\n",
    "Make a line with known parameter."
   ],
   "id": "9ba0e0dd7a31398b"
  },
  {
   "metadata": {
    "ExecuteTime": {
     "end_time": "2025-10-09T08:08:56.535893Z",
     "start_time": "2025-10-09T08:08:56.471532Z"
    }
   },
   "cell_type": "code",
   "source": [
    "# known params\n",
    "weight = 0.7\n",
    "bias = 0.3\n",
    "\n",
    "start = 0\n",
    "end = 1\n",
    "step = 0.02\n",
    "X = torch.arange(start, end, step).unsqueeze(dim=1)\n",
    "y = weight * X + bias\n",
    "\n",
    "X[:10], y[:10]"
   ],
   "id": "e837bde457fcda05",
   "outputs": [
    {
     "data": {
      "text/plain": [
       "(tensor([[0.0000],\n",
       "         [0.0200],\n",
       "         [0.0400],\n",
       "         [0.0600],\n",
       "         [0.0800],\n",
       "         [0.1000],\n",
       "         [0.1200],\n",
       "         [0.1400],\n",
       "         [0.1600],\n",
       "         [0.1800]]),\n",
       " tensor([[0.3000],\n",
       "         [0.3140],\n",
       "         [0.3280],\n",
       "         [0.3420],\n",
       "         [0.3560],\n",
       "         [0.3700],\n",
       "         [0.3840],\n",
       "         [0.3980],\n",
       "         [0.4120],\n",
       "         [0.4260]]))"
      ]
     },
     "execution_count": 3,
     "metadata": {},
     "output_type": "execute_result"
    }
   ],
   "execution_count": 3
  },
  {
   "metadata": {},
   "cell_type": "markdown",
   "source": [
    "Now we need a nn to accurately predict output y. We know it because its weight * X + Bias.\n",
    "To do this lets establish our sets..."
   ],
   "id": "19717f0083fe0e39"
  },
  {
   "metadata": {
    "ExecuteTime": {
     "end_time": "2025-10-09T08:08:56.549492Z",
     "start_time": "2025-10-09T08:08:56.541226Z"
    }
   },
   "cell_type": "code",
   "source": [
    "# We need to make sure data is split into training and test sets!\n",
    "# Training set - Validation set - Test set\n",
    "\n",
    "# Implement an 80/20 train test split\n",
    "\n",
    "train_split = int(0.8 * len(X))\n",
    "X_train, y_train = X[:train_split], y[:train_split]\n",
    "X_test, y_test = X[train_split:], y[train_split:]\n",
    "\n",
    "def plot_predictions(train_data=X_train, train_labels=y_train,\n",
    "                     test_data=X_test, test_labels=y_test,\n",
    "                     predictions=None):\n",
    "    \"\"\"\n",
    "    Plots training and test predictions.\n",
    "    \"\"\"\n",
    "    plt.figure(figsize=(12, 8))\n",
    "\n",
    "    plt.scatter(train_data, train_labels, c=\"b\", s=4, label=\"training data\")\n",
    "    plt.scatter(test_data, test_labels, c=\"g\", s=4, label=\"test data\")\n",
    "\n",
    "    if predictions is not None:\n",
    "        plt.scatter(test_data, predictions, c=\"r\", s=4, label=\"predictions\")\n",
    "\n",
    "    plt.legend(prop={'size': 14})"
   ],
   "id": "e8ed41fb6971c533",
   "outputs": [],
   "execution_count": 4
  },
  {
   "metadata": {
    "ExecuteTime": {
     "end_time": "2025-10-09T08:08:56.775327Z",
     "start_time": "2025-10-09T08:08:56.557148Z"
    }
   },
   "cell_type": "code",
   "source": "plot_predictions()",
   "id": "77d272159a89be86",
   "outputs": [
    {
     "data": {
      "text/plain": [
       "<Figure size 1200x800 with 1 Axes>"
      ],
      "image/png": "[encoded data removed]"
     },
     "metadata": {},
     "output_type": "display_data",
     "jetTransient": {
      "display_id": null
     }
    }
   ],
   "execution_count": 5
  },
  {
   "metadata": {
    "ExecuteTime": {
     "end_time": "2025-10-09T08:08:56.790338Z",
     "start_time": "2025-10-09T08:08:56.783540Z"
    }
   },
   "cell_type": "code",
   "source": [
    "# Building our first model\n",
    "# Specifically a linear regression model\n",
    "# using gradient decent and back propagation\n",
    "\n",
    "class LinearRegressionModel(nn.Module):\n",
    "\n",
    "    def __init__(self):\n",
    "        super().__init__()\n",
    "\n",
    "        # these random number should be updated to reflect the training data...\n",
    "        self.weights = nn.Parameter(torch.randn(1, requires_grad=True, dtype=torch.float)) # A tensor that is a module param\n",
    "        self.bias = nn.Parameter(torch.randn(1, requires_grad=True, dtype=torch.float))\n",
    "\n",
    "    # forward method to define computation in model\n",
    "    # you must overwrite forward in all nn.module subclasses\n",
    "    def forward(self, x: torch.Tensor) -> torch.Tensor:\n",
    "        # run training data thru regression and return result\n",
    "        return self.weights * x + self.bias # linear regression"
   ],
   "id": "86d51dd3933acd08",
   "outputs": [],
   "execution_count": 6
  },
  {
   "metadata": {
    "ExecuteTime": {
     "end_time": "2025-10-09T08:08:56.820397Z",
     "start_time": "2025-10-09T08:08:56.802205Z"
    }
   },
   "cell_type": "code",
   "source": [
    "# lets see whats inside our model\n",
    "\n",
    "#create a seed so that the randomness of the weights and biases is uniform\n",
    "torch.manual_seed(99)\n",
    "\n",
    "# create instance of the model\n",
    "model_0 = LinearRegressionModel()\n",
    "\n",
    "list(model_0.parameters())"
   ],
   "id": "add9885645e25868",
   "outputs": [
    {
     "data": {
      "text/plain": [
       "[Parameter containing:\n",
       " tensor([0.6127], requires_grad=True),\n",
       " Parameter containing:\n",
       " tensor([-1.1754], requires_grad=True)]"
      ]
     },
     "execution_count": 7,
     "metadata": {},
     "output_type": "execute_result"
    }
   ],
   "execution_count": 7
  },
  {
   "metadata": {
    "ExecuteTime": {
     "end_time": "2025-10-09T08:37:28.326322Z",
     "start_time": "2025-10-09T08:37:28.320025Z"
    }
   },
   "cell_type": "code",
   "source": [
    "# making predictions with inference mode\n",
    "\n",
    "with torch.no_grad():\n",
    "    y_preds = model_0(X_test)\n",
    "y_preds # Remember this has random weight and bias"
   ],
   "id": "1c417823464e3c61",
   "outputs": [
    {
     "data": {
      "text/plain": [
       "tensor([[-0.6852],\n",
       "        [-0.6730],\n",
       "        [-0.6607],\n",
       "        [-0.6484],\n",
       "        [-0.6362],\n",
       "        [-0.6239],\n",
       "        [-0.6117],\n",
       "        [-0.5994],\n",
       "        [-0.5872],\n",
       "        [-0.5749]])"
      ]
     },
     "execution_count": 11,
     "metadata": {},
     "output_type": "execute_result"
    }
   ],
   "execution_count": 11
  },
  {
   "metadata": {
    "ExecuteTime": {
     "end_time": "2025-10-09T08:31:03.799315Z",
     "start_time": "2025-10-09T08:31:03.625525Z"
    }
   },
   "cell_type": "code",
   "source": "plot_predictions(predictions=y_preds)",
   "id": "34cfffd51bda8b98",
   "outputs": [
    {
     "data": {
      "text/plain": [
       "<Figure size 1200x800 with 1 Axes>"
      ],
      "image/png": "[encoded data removed]"
     },
     "metadata": {},
     "output_type": "display_data",
     "jetTransient": {
      "display_id": null
     }
    }
   ],
   "execution_count": 10
  },
  {
   "metadata": {},
   "cell_type": "markdown",
   "source": [
    "The objective with training a model is to go from some unknown params to some known params. Or a poor representation to a good representation.\n",
    "\n",
    "We need to be able to measure how badly the model performs or how wrong its predictions are. This is where the loss function comes in.\n",
    "\n",
    "Out bias and weight will change so that the loss function is reduced. There are lots of loss functions in pytorch.nn.\n",
    "\n",
    "L1Loss is good for regression models (mean absolute error)\n",
    "Many optimizers are good we might use Adam for this one but SGD (Stochastic Gradient Decent) is probably better?"
   ],
   "id": "f162e3505305ee67"
  },
  {
   "metadata": {
    "ExecuteTime": {
     "end_time": "2025-10-09T09:40:16.405267Z",
     "start_time": "2025-10-09T09:40:16.306786Z"
    }
   },
   "cell_type": "code",
   "source": [
    "# setup a loss function and optimizer\n",
    "\n",
    "loss_fn = nn.L1Loss()\n",
    "optimizer = torch.optim.SGD(params=model_0.parameters(), lr=0.00001)\n",
    "# lr is learning rate\n",
    "# params are the value to be changed\n",
    "\n",
    "# lr is like a damping ratio kida.\n",
    "# It is like a scalar for how fast to try and learn.\n",
    "\n",
    "# Now we need a training loop and testing loop.\n",
    "\n",
    "epochs = 200\n",
    "for epoch in range(epochs):\n",
    "    # put model in training mode\n",
    "    model_0.train()\n",
    "\n",
    "\n",
    "    y_preds = model_0(X_train) # forward pass (data tru forward method)\n",
    "    loss = loss_fn(y_preds, y_train)\n",
    "    print(loss)\n",
    "    optimizer.zero_grad() # each epoch start fresh\n",
    "    loss.backward() # back prop\n",
    "    optimizer.step() # grad decent\n",
    "\n",
    "    # Testing steps\n",
    "    model_0.eval() # turns off gradient tracking\n"
   ],
   "id": "23a1a5198b43a664",
   "outputs": [
    {
     "name": "stdout",
     "output_type": "stream",
     "text": [
      "tensor(3.7946e-06, grad_fn=<MeanBackward0>)\n",
      "tensor(7.7292e-06, grad_fn=<MeanBackward0>)\n",
      "tensor(3.7946e-06, grad_fn=<MeanBackward0>)\n",
      "tensor(7.7292e-06, grad_fn=<MeanBackward0>)\n",
      "tensor(3.7946e-06, grad_fn=<MeanBackward0>)\n",
      "tensor(7.7292e-06, grad_fn=<MeanBackward0>)\n",
      "tensor(3.7946e-06, grad_fn=<MeanBackward0>)\n",
      "tensor(7.7292e-06, grad_fn=<MeanBackward0>)\n",
      "tensor(3.7946e-06, grad_fn=<MeanBackward0>)\n",
      "tensor(7.7292e-06, grad_fn=<MeanBackward0>)\n",
      "tensor(3.7946e-06, grad_fn=<MeanBackward0>)\n",
      "tensor(7.7292e-06, grad_fn=<MeanBackward0>)\n",
      "tensor(3.7946e-06, grad_fn=<MeanBackward0>)\n",
      "tensor(7.7292e-06, grad_fn=<MeanBackward0>)\n",
      "tensor(3.7946e-06, grad_fn=<MeanBackward0>)\n",
      "tensor(7.7292e-06, grad_fn=<MeanBackward0>)\n",
      "tensor(3.7946e-06, grad_fn=<MeanBackward0>)\n",
      "tensor(7.7292e-06, grad_fn=<MeanBackward0>)\n",
      "tensor(3.7946e-06, grad_fn=<MeanBackward0>)\n",
      "tensor(7.7292e-06, grad_fn=<MeanBackward0>)\n",
      "tensor(3.7946e-06, grad_fn=<MeanBackward0>)\n",
      "tensor(7.7292e-06, grad_fn=<MeanBackward0>)\n",
      "tensor(3.7946e-06, grad_fn=<MeanBackward0>)\n",
      "tensor(7.7292e-06, grad_fn=<MeanBackward0>)\n",
      "tensor(3.7946e-06, grad_fn=<MeanBackward0>)\n",
      "tensor(7.7292e-06, grad_fn=<MeanBackward0>)\n",
      "tensor(3.7946e-06, grad_fn=<MeanBackward0>)\n",
      "tensor(7.7292e-06, grad_fn=<MeanBackward0>)\n",
      "tensor(3.7946e-06, grad_fn=<MeanBackward0>)\n",
      "tensor(7.7292e-06, grad_fn=<MeanBackward0>)\n",
      "tensor(3.7946e-06, grad_fn=<MeanBackward0>)\n",
      "tensor(7.7292e-06, grad_fn=<MeanBackward0>)\n",
      "tensor(3.7946e-06, grad_fn=<MeanBackward0>)\n",
      "tensor(7.7292e-06, grad_fn=<MeanBackward0>)\n",
      "tensor(3.7946e-06, grad_fn=<MeanBackward0>)\n",
      "tensor(7.7292e-06, grad_fn=<MeanBackward0>)\n",
      "tensor(3.7946e-06, grad_fn=<MeanBackward0>)\n",
      "tensor(7.7292e-06, grad_fn=<MeanBackward0>)\n",
      "tensor(3.7946e-06, grad_fn=<MeanBackward0>)\n",
      "tensor(7.7292e-06, grad_fn=<MeanBackward0>)\n",
      "tensor(3.7946e-06, grad_fn=<MeanBackward0>)\n",
      "tensor(7.7292e-06, grad_fn=<MeanBackward0>)\n",
      "tensor(3.7946e-06, grad_fn=<MeanBackward0>)\n",
      "tensor(7.7292e-06, grad_fn=<MeanBackward0>)\n",
      "tensor(3.7946e-06, grad_fn=<MeanBackward0>)\n",
      "tensor(7.7292e-06, grad_fn=<MeanBackward0>)\n",
      "tensor(3.7946e-06, grad_fn=<MeanBackward0>)\n",
      "tensor(7.7292e-06, grad_fn=<MeanBackward0>)\n",
      "tensor(3.7946e-06, grad_fn=<MeanBackward0>)\n",
      "tensor(7.7292e-06, grad_fn=<MeanBackward0>)\n",
      "tensor(3.7946e-06, grad_fn=<MeanBackward0>)\n",
      "tensor(7.7292e-06, grad_fn=<MeanBackward0>)\n",
      "tensor(3.7946e-06, grad_fn=<MeanBackward0>)\n",
      "tensor(7.7292e-06, grad_fn=<MeanBackward0>)\n",
      "tensor(3.7946e-06, grad_fn=<MeanBackward0>)\n",
      "tensor(7.7292e-06, grad_fn=<MeanBackward0>)\n",
      "tensor(3.7946e-06, grad_fn=<MeanBackward0>)\n",
      "tensor(7.7292e-06, grad_fn=<MeanBackward0>)\n",
      "tensor(3.7946e-06, grad_fn=<MeanBackward0>)\n",
      "tensor(7.7292e-06, grad_fn=<MeanBackward0>)\n",
      "tensor(3.7946e-06, grad_fn=<MeanBackward0>)\n",
      "tensor(7.7292e-06, grad_fn=<MeanBackward0>)\n",
      "tensor(3.7946e-06, grad_fn=<MeanBackward0>)\n",
      "tensor(7.7292e-06, grad_fn=<MeanBackward0>)\n",
      "tensor(3.7946e-06, grad_fn=<MeanBackward0>)\n",
      "tensor(7.7292e-06, grad_fn=<MeanBackward0>)\n",
      "tensor(3.7946e-06, grad_fn=<MeanBackward0>)\n",
      "tensor(7.7292e-06, grad_fn=<MeanBackward0>)\n",
      "tensor(3.7946e-06, grad_fn=<MeanBackward0>)\n",
      "tensor(7.7292e-06, grad_fn=<MeanBackward0>)\n",
      "tensor(3.7946e-06, grad_fn=<MeanBackward0>)\n",
      "tensor(7.7292e-06, grad_fn=<MeanBackward0>)\n",
      "tensor(3.7946e-06, grad_fn=<MeanBackward0>)\n",
      "tensor(7.7292e-06, grad_fn=<MeanBackward0>)\n",
      "tensor(3.7946e-06, grad_fn=<MeanBackward0>)\n",
      "tensor(7.7292e-06, grad_fn=<MeanBackward0>)\n",
      "tensor(3.7946e-06, grad_fn=<MeanBackward0>)\n",
      "tensor(7.7292e-06, grad_fn=<MeanBackward0>)\n",
      "tensor(3.7946e-06, grad_fn=<MeanBackward0>)\n",
      "tensor(7.7292e-06, grad_fn=<MeanBackward0>)\n",
      "tensor(3.7946e-06, grad_fn=<MeanBackward0>)\n",
      "tensor(7.7292e-06, grad_fn=<MeanBackward0>)\n",
      "tensor(3.7946e-06, grad_fn=<MeanBackward0>)\n",
      "tensor(7.7292e-06, grad_fn=<MeanBackward0>)\n",
      "tensor(3.7946e-06, grad_fn=<MeanBackward0>)\n",
      "tensor(7.7292e-06, grad_fn=<MeanBackward0>)\n",
      "tensor(3.7946e-06, grad_fn=<MeanBackward0>)\n",
      "tensor(7.7292e-06, grad_fn=<MeanBackward0>)\n",
      "tensor(3.7946e-06, grad_fn=<MeanBackward0>)\n",
      "tensor(7.7292e-06, grad_fn=<MeanBackward0>)\n",
      "tensor(3.7946e-06, grad_fn=<MeanBackward0>)\n",
      "tensor(7.7292e-06, grad_fn=<MeanBackward0>)\n",
      "tensor(3.7946e-06, grad_fn=<MeanBackward0>)\n",
      "tensor(7.7292e-06, grad_fn=<MeanBackward0>)\n",
      "tensor(3.7946e-06, grad_fn=<MeanBackward0>)\n",
      "tensor(7.7292e-06, grad_fn=<MeanBackward0>)\n",
      "tensor(3.7946e-06, grad_fn=<MeanBackward0>)\n",
      "tensor(7.7292e-06, grad_fn=<MeanBackward0>)\n",
      "tensor(3.7946e-06, grad_fn=<MeanBackward0>)\n",
      "tensor(7.7292e-06, grad_fn=<MeanBackward0>)\n",
      "tensor(3.7946e-06, grad_fn=<MeanBackward0>)\n",
      "tensor(7.7292e-06, grad_fn=<MeanBackward0>)\n",
      "tensor(3.7946e-06, grad_fn=<MeanBackward0>)\n",
      "tensor(7.7292e-06, grad_fn=<MeanBackward0>)\n",
      "tensor(3.7946e-06, grad_fn=<MeanBackward0>)\n",
      "tensor(7.7292e-06, grad_fn=<MeanBackward0>)\n",
      "tensor(3.7946e-06, grad_fn=<MeanBackward0>)\n",
      "tensor(7.7292e-06, grad_fn=<MeanBackward0>)\n",
      "tensor(3.7946e-06, grad_fn=<MeanBackward0>)\n",
      "tensor(7.7292e-06, grad_fn=<MeanBackward0>)\n",
      "tensor(3.7946e-06, grad_fn=<MeanBackward0>)\n",
      "tensor(7.7292e-06, grad_fn=<MeanBackward0>)\n",
      "tensor(3.7946e-06, grad_fn=<MeanBackward0>)\n",
      "tensor(7.7292e-06, grad_fn=<MeanBackward0>)\n",
      "tensor(3.7946e-06, grad_fn=<MeanBackward0>)\n",
      "tensor(7.7292e-06, grad_fn=<MeanBackward0>)\n",
      "tensor(3.7946e-06, grad_fn=<MeanBackward0>)\n",
      "tensor(7.7292e-06, grad_fn=<MeanBackward0>)\n",
      "tensor(3.7946e-06, grad_fn=<MeanBackward0>)\n",
      "tensor(7.7292e-06, grad_fn=<MeanBackward0>)\n",
      "tensor(3.7946e-06, grad_fn=<MeanBackward0>)\n",
      "tensor(7.7292e-06, grad_fn=<MeanBackward0>)\n",
      "tensor(3.7946e-06, grad_fn=<MeanBackward0>)\n",
      "tensor(7.7292e-06, grad_fn=<MeanBackward0>)\n",
      "tensor(3.7946e-06, grad_fn=<MeanBackward0>)\n",
      "tensor(7.7292e-06, grad_fn=<MeanBackward0>)\n",
      "tensor(3.7946e-06, grad_fn=<MeanBackward0>)\n",
      "tensor(7.7292e-06, grad_fn=<MeanBackward0>)\n",
      "tensor(3.7946e-06, grad_fn=<MeanBackward0>)\n",
      "tensor(7.7292e-06, grad_fn=<MeanBackward0>)\n",
      "tensor(3.7946e-06, grad_fn=<MeanBackward0>)\n",
      "tensor(7.7292e-06, grad_fn=<MeanBackward0>)\n",
      "tensor(3.7946e-06, grad_fn=<MeanBackward0>)\n",
      "tensor(7.7292e-06, grad_fn=<MeanBackward0>)\n",
      "tensor(3.7946e-06, grad_fn=<MeanBackward0>)\n",
      "tensor(7.7292e-06, grad_fn=<MeanBackward0>)\n",
      "tensor(3.7946e-06, grad_fn=<MeanBackward0>)\n",
      "tensor(7.7292e-06, grad_fn=<MeanBackward0>)\n",
      "tensor(3.7946e-06, grad_fn=<MeanBackward0>)\n",
      "tensor(7.7292e-06, grad_fn=<MeanBackward0>)\n",
      "tensor(3.7946e-06, grad_fn=<MeanBackward0>)\n",
      "tensor(7.7292e-06, grad_fn=<MeanBackward0>)\n",
      "tensor(3.7946e-06, grad_fn=<MeanBackward0>)\n",
      "tensor(7.7292e-06, grad_fn=<MeanBackward0>)\n",
      "tensor(3.7946e-06, grad_fn=<MeanBackward0>)\n",
      "tensor(7.7292e-06, grad_fn=<MeanBackward0>)\n",
      "tensor(3.7946e-06, grad_fn=<MeanBackward0>)\n",
      "tensor(7.7292e-06, grad_fn=<MeanBackward0>)\n",
      "tensor(3.7946e-06, grad_fn=<MeanBackward0>)\n",
      "tensor(7.7292e-06, grad_fn=<MeanBackward0>)\n",
      "tensor(3.7946e-06, grad_fn=<MeanBackward0>)\n",
      "tensor(7.7292e-06, grad_fn=<MeanBackward0>)\n",
      "tensor(3.7946e-06, grad_fn=<MeanBackward0>)\n",
      "tensor(7.7292e-06, grad_fn=<MeanBackward0>)\n",
      "tensor(3.7946e-06, grad_fn=<MeanBackward0>)\n",
      "tensor(7.7292e-06, grad_fn=<MeanBackward0>)\n",
      "tensor(3.7946e-06, grad_fn=<MeanBackward0>)\n",
      "tensor(7.7292e-06, grad_fn=<MeanBackward0>)\n",
      "tensor(3.7946e-06, grad_fn=<MeanBackward0>)\n",
      "tensor(7.7292e-06, grad_fn=<MeanBackward0>)\n",
      "tensor(3.7946e-06, grad_fn=<MeanBackward0>)\n",
      "tensor(7.7292e-06, grad_fn=<MeanBackward0>)\n",
      "tensor(3.7946e-06, grad_fn=<MeanBackward0>)\n",
      "tensor(7.7292e-06, grad_fn=<MeanBackward0>)\n",
      "tensor(3.7946e-06, grad_fn=<MeanBackward0>)\n",
      "tensor(7.7292e-06, grad_fn=<MeanBackward0>)\n",
      "tensor(3.7946e-06, grad_fn=<MeanBackward0>)\n",
      "tensor(7.7292e-06, grad_fn=<MeanBackward0>)\n",
      "tensor(3.7946e-06, grad_fn=<MeanBackward0>)\n",
      "tensor(7.7292e-06, grad_fn=<MeanBackward0>)\n",
      "tensor(3.7946e-06, grad_fn=<MeanBackward0>)\n",
      "tensor(7.7292e-06, grad_fn=<MeanBackward0>)\n",
      "tensor(3.7946e-06, grad_fn=<MeanBackward0>)\n",
      "tensor(7.7292e-06, grad_fn=<MeanBackward0>)\n",
      "tensor(3.7946e-06, grad_fn=<MeanBackward0>)\n",
      "tensor(7.7292e-06, grad_fn=<MeanBackward0>)\n",
      "tensor(3.7946e-06, grad_fn=<MeanBackward0>)\n",
      "tensor(7.7292e-06, grad_fn=<MeanBackward0>)\n",
      "tensor(3.7946e-06, grad_fn=<MeanBackward0>)\n",
      "tensor(7.7292e-06, grad_fn=<MeanBackward0>)\n",
      "tensor(3.7946e-06, grad_fn=<MeanBackward0>)\n",
      "tensor(7.7292e-06, grad_fn=<MeanBackward0>)\n",
      "tensor(3.7946e-06, grad_fn=<MeanBackward0>)\n",
      "tensor(7.7292e-06, grad_fn=<MeanBackward0>)\n",
      "tensor(3.7946e-06, grad_fn=<MeanBackward0>)\n",
      "tensor(7.7292e-06, grad_fn=<MeanBackward0>)\n",
      "tensor(3.7946e-06, grad_fn=<MeanBackward0>)\n",
      "tensor(7.7292e-06, grad_fn=<MeanBackward0>)\n",
      "tensor(3.7946e-06, grad_fn=<MeanBackward0>)\n",
      "tensor(7.7292e-06, grad_fn=<MeanBackward0>)\n",
      "tensor(3.7946e-06, grad_fn=<MeanBackward0>)\n",
      "tensor(7.7292e-06, grad_fn=<MeanBackward0>)\n",
      "tensor(3.7946e-06, grad_fn=<MeanBackward0>)\n",
      "tensor(7.7292e-06, grad_fn=<MeanBackward0>)\n",
      "tensor(3.7946e-06, grad_fn=<MeanBackward0>)\n",
      "tensor(7.7292e-06, grad_fn=<MeanBackward0>)\n",
      "tensor(3.7946e-06, grad_fn=<MeanBackward0>)\n",
      "tensor(7.7292e-06, grad_fn=<MeanBackward0>)\n",
      "tensor(3.7946e-06, grad_fn=<MeanBackward0>)\n",
      "tensor(7.7292e-06, grad_fn=<MeanBackward0>)\n"
     ]
    }
   ],
   "execution_count": 27
  },
  {
   "metadata": {
    "ExecuteTime": {
     "end_time": "2025-10-09T09:35:36.113947Z",
     "start_time": "2025-10-09T09:35:36.109579Z"
    }
   },
   "cell_type": "code",
   "source": "model_0.state_dict()",
   "id": "dcdaf2a0dd7fbabe",
   "outputs": [
    {
     "data": {
      "text/plain": [
       "OrderedDict([('weights', tensor([0.7803])), ('bias', tensor([0.3396]))])"
      ]
     },
     "execution_count": 20,
     "metadata": {},
     "output_type": "execute_result"
    }
   ],
   "execution_count": 20
  },
  {
   "metadata": {
    "ExecuteTime": {
     "end_time": "2025-10-09T09:40:50.394299Z",
     "start_time": "2025-10-09T09:40:50.119305Z"
    }
   },
   "cell_type": "code",
   "source": [
    "with torch.no_grad():\n",
    "    y_preds = model_0(X_test)\n",
    "plot_predictions(predictions=y_preds)"
   ],
   "id": "24f76510c5e2df77",
   "outputs": [
    {
     "data": {
      "text/plain": [
       "<Figure size 1200x800 with 1 Axes>"
      ],
      "image/png": "[encoded data removed]"
     },
     "metadata": {},
     "output_type": "display_data",
     "jetTransient": {
      "display_id": null
     }
    }
   ],
   "execution_count": 28
  },
  {
   "metadata": {
    "ExecuteTime": {
     "end_time": "2025-10-09T10:19:12.401672Z",
     "start_time": "2025-10-09T10:19:12.381735Z"
    }
   },
   "cell_type": "code",
   "source": [
    "# Saving this model off and loading one in...\n",
    "\n",
    "# methods...\n",
    "\n",
    "# 1. torch.save()\n",
    "torch.save(obj=model_0.state_dict(), f=\"model_0.pth\")\n",
    "\n",
    "# 2. loading in the state_dict to a new instance\n",
    "model_0_0 = LinearRegressionModel()\n",
    "model_0_0.load_state_dict(torch.load(f=\"model_0.pth\"))"
   ],
   "id": "e9742e3e2e93bda",
   "outputs": [
    {
     "data": {
      "text/plain": [
       "<All keys matched successfully>"
      ]
     },
     "execution_count": 30,
     "metadata": {},
     "output_type": "execute_result"
    }
   ],
   "execution_count": 30
  },
  {
   "metadata": {
    "ExecuteTime": {
     "end_time": "2025-10-09T10:21:51.805126Z",
     "start_time": "2025-10-09T10:21:51.794782Z"
    }
   },
   "cell_type": "code",
   "source": [
    "# lets make a rediction with the loaded model\n",
    "model_0_0.eval() # put model in evaluation mode\n",
    "with torch.no_grad():\n",
    "    y_preds_0 = model_0_0(X_test)\n",
    "# compare them to og model\n",
    "y_preds == y_preds_0"
   ],
   "id": "3151836b9002919",
   "outputs": [
    {
     "data": {
      "text/plain": [
       "tensor([[True],\n",
       "        [True],\n",
       "        [True],\n",
       "        [True],\n",
       "        [True],\n",
       "        [True],\n",
       "        [True],\n",
       "        [True],\n",
       "        [True],\n",
       "        [True]])"
      ]
     },
     "execution_count": 31,
     "metadata": {},
     "output_type": "execute_result"
    }
   ],
   "execution_count": 31
  }
 ],
 "metadata": {
  "kernelspec": {
   "display_name": "Python 3",
   "language": "python",
   "name": "python3"
  },
  "language_info": {
   "codemirror_mode": {
    "name": "ipython",
    "version": 2
   },
   "file_extension": ".py",
   "mimetype": "text/x-python",
   "name": "python",
   "nbconvert_exporter": "python",
   "pygments_lexer": "ipython2",
   "version": "2.7.6"
  }
 },
 "nbformat": 4,
 "nbformat_minor": 5
}
