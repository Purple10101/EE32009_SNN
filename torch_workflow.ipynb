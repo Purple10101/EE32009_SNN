{
 "cells": [
  {
   "cell_type": "code",
   "id": "initial_id",
   "metadata": {
    "collapsed": true,
    "ExecuteTime": {
     "end_time": "2025-10-08T18:14:49.770202Z",
     "start_time": "2025-10-08T18:14:49.765701Z"
    }
   },
   "source": [
    "import torch\n",
    "from torch import nn\n",
    "import matplotlib.pyplot as plt\n",
    "\n",
    "torch.__version__"
   ],
   "outputs": [
    {
     "data": {
      "text/plain": [
       "'2.8.0+cpu'"
      ]
     },
     "execution_count": 5,
     "metadata": {},
     "output_type": "execute_result"
    }
   ],
   "execution_count": 5
  },
  {
   "metadata": {},
   "cell_type": "markdown",
   "source": [
    "Create some known data using linear regression.\n",
    "\n",
    "Make a line with known parameter."
   ],
   "id": "9ba0e0dd7a31398b"
  },
  {
   "metadata": {
    "ExecuteTime": {
     "end_time": "2025-10-08T18:14:49.794208Z",
     "start_time": "2025-10-08T18:14:49.786707Z"
    }
   },
   "cell_type": "code",
   "source": [
    "# known params\n",
    "weight = 0.7\n",
    "bias = 0.3\n",
    "\n",
    "start = 0\n",
    "end = 1\n",
    "step = 0.02\n",
    "X = torch.arange(start, end, step).unsqueeze(dim=1)\n",
    "y = weight * X + bias\n",
    "\n",
    "X[:10], y[:10]"
   ],
   "id": "e837bde457fcda05",
   "outputs": [
    {
     "data": {
      "text/plain": [
       "(tensor([[0.0000],\n",
       "         [0.0200],\n",
       "         [0.0400],\n",
       "         [0.0600],\n",
       "         [0.0800],\n",
       "         [0.1000],\n",
       "         [0.1200],\n",
       "         [0.1400],\n",
       "         [0.1600],\n",
       "         [0.1800]]),\n",
       " tensor([[0.3000],\n",
       "         [0.3140],\n",
       "         [0.3280],\n",
       "         [0.3420],\n",
       "         [0.3560],\n",
       "         [0.3700],\n",
       "         [0.3840],\n",
       "         [0.3980],\n",
       "         [0.4120],\n",
       "         [0.4260]]))"
      ]
     },
     "execution_count": 6,
     "metadata": {},
     "output_type": "execute_result"
    }
   ],
   "execution_count": 6
  },
  {
   "metadata": {},
   "cell_type": "markdown",
   "source": [
    "Now we need a nn to accurately predict output y. We know it because its weight * X + Bias.\n",
    "To do this lets establish our sets..."
   ],
   "id": "19717f0083fe0e39"
  },
  {
   "metadata": {
    "ExecuteTime": {
     "end_time": "2025-10-08T18:14:49.812712Z",
     "start_time": "2025-10-08T18:14:49.805711Z"
    }
   },
   "cell_type": "code",
   "source": [
    "# We need to make sure data is split into training and test sets!\n",
    "# Training set - Validation set - Test set\n",
    "\n",
    "# Implement an 80/20 train test split\n",
    "\n",
    "train_split = int(0.8 * len(X))\n",
    "X_train, y_train = X[:train_split], y[:train_split]\n",
    "X_test, y_test = X[train_split:], y[train_split:]\n",
    "\n",
    "def plot_predictions(train_data=X_train, train_labels=y_train,\n",
    "                     test_data=X_test, test_labels=y_test,\n",
    "                     predictions=None):\n",
    "    \"\"\"\n",
    "    Plots training and test predictions.\n",
    "    \"\"\"\n",
    "    plt.figure(figsize=(12, 8))\n",
    "\n",
    "    plt.scatter(train_data, train_labels, c=\"b\", s=4, label=\"training data\")\n",
    "    plt.scatter(test_data, test_labels, c=\"g\", s=4, label=\"test data\")\n",
    "\n",
    "    if predictions is not None:\n",
    "        plt.scatter(test_data, predictions, c=\"r\", s=4, label=\"predictions\")\n",
    "\n",
    "    plt.legend(prop={'size': 14})"
   ],
   "id": "e8ed41fb6971c533",
   "outputs": [],
   "execution_count": 7
  },
  {
   "metadata": {
    "ExecuteTime": {
     "end_time": "2025-10-08T18:14:50.019261Z",
     "start_time": "2025-10-08T18:14:49.873727Z"
    }
   },
   "cell_type": "code",
   "source": "plot_predictions()",
   "id": "77d272159a89be86",
   "outputs": [
    {
     "data": {
      "text/plain": [
       "<Figure size 1200x800 with 1 Axes>"
      ],
      "image/png": "[encoded data removed]"
     },
     "metadata": {},
     "output_type": "display_data"
    }
   ],
   "execution_count": 8
  },
  {
   "metadata": {
    "ExecuteTime": {
     "end_time": "2025-10-08T18:14:50.026762Z",
     "start_time": "2025-10-08T18:14:50.024261Z"
    }
   },
   "cell_type": "code",
   "source": [
    "# Building our first model\n",
    "# Specifically a linear regression model\n",
    "# using gradient decent and back propagation\n",
    "\n",
    "class LinearRegressionModel(nn.Module):\n",
    "\n",
    "    def __init__(self):\n",
    "        super().__init__()\n",
    "\n",
    "        # these random number should be updated to reflect the training data...\n",
    "        self.weights = nn.Parameter(torch.randn(1, requires_grad=True, dtype=torch.float)) # A tensor that is a module param\n",
    "        self.bias = nn.Parameter(torch.randn(1, requires_grad=True, dtype=torch.float))\n",
    "\n",
    "    # forward method to define computation in model\n",
    "    # you must overwrite forward in all nn.module subclasses\n",
    "    def forward(self, x: torch.Tensor) -> torch.Tensor:\n",
    "        # run training data thru regression and return result\n",
    "        return self.weights * x + self.bias # linear regression"
   ],
   "id": "86d51dd3933acd08",
   "outputs": [],
   "execution_count": null
  }
 ],
 "metadata": {
  "kernelspec": {
   "display_name": "Python 3",
   "language": "python",
   "name": "python3"
  },
  "language_info": {
   "codemirror_mode": {
    "name": "ipython",
    "version": 2
   },
   "file_extension": ".py",
   "mimetype": "text/x-python",
   "name": "python",
   "nbconvert_exporter": "python",
   "pygments_lexer": "ipython2",
   "version": "2.7.6"
  }
 },
 "nbformat": 4,
 "nbformat_minor": 5
}
